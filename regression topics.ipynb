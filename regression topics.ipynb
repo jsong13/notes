{
 "cells": [
  {
   "cell_type": "markdown",
   "metadata": {},
   "source": [
    "## Precision Matrix\n",
    "\n",
    "\n",
    "### Definition\n",
    "$P$, precison matrix, is defined as inverse of covariance matrix $C$\n",
    "\n",
    "* symmetric\n",
    "* positive \n",
    "* $C_{ii}P_{ii} \\ge 1$\n",
    "* have same eigen vectors\n",
    "\n",
    "It appears in density distribution\n",
    "\\begin{eqnarray}\n",
    "Normal(X) \\sim \\exp\\left( -\\frac{1}{2} X'C^{-1}X \\right)\n",
    "\\end{eqnarray}\n",
    "\n",
    "### brutal force formula to look at first and rest of the block\n",
    "let $C$ be the covariance matrix, we explicitly write the first element and group others in $n-1$ block\n",
    "\\begin{equation}\n",
    "C = \n",
    "\\left(\\begin{matrix}\n",
    "a & l' \\\\\n",
    "l & A\n",
    "\\end{matrix}\\right),\n",
    "\\end{equation}\n",
    "Let $D = C^{-1}$.\n",
    "\\begin{equation}\n",
    "D =\n",
    "\\left(\\begin{matrix}\n",
    "b & m' \\\\\n",
    "m & B\n",
    "\\end{matrix}\\right)\n",
    "\\end{equation}\n",
    "Elements of $D$ can be formally written as \n",
    "\\begin{eqnarray}\n",
    "b^{-1} &=& a - l'A^{-1}l \\\\\n",
    "B^{-1} &=& A - l a^{-1} l' \\\\\n",
    "m &=& - b A^{-1} l \\\\\n",
    "m &=& - a^{-1} B l\n",
    "\\end{eqnarray}\n",
    "\n",
    "### sum or squared residuals in ols is in reciprical of the covariance's inverse\n",
    "\n",
    "$y = X\\beta + \\epsilon$\n",
    "let $C$ be the covariance matrix is\n",
    "\\begin{eqnarray}\n",
    "C =\n",
    "\\left(\n",
    "\\begin{matrix}\n",
    "y'y & y'X \\\\\n",
    "X'y & X'X \n",
    "\\end{matrix}\n",
    "\\right)\n",
    "\\end{eqnarray}\n",
    "sum of squared residual is \n",
    "\\begin{eqnarray}\n",
    "\\frac{1}{P_{yy}} = y'y - y'X(X'X)^{-1}X'y\n",
    "\\end{eqnarray}\n",
    "\n",
    "\n",
    "### standard error of coefficient estimator is in covariance inverse\n",
    "\\begin{eqnarray}\n",
    "\\hat{Var}\\left(\\beta_{ii}\\right) &=& P_{ii} \\sigma^2_{\\epsilon} \\\\\n",
    "& = & \\frac{\\sigma^2_\\epsilon}{SSR(X_i \\sim X_1+...+X_{i-1} +X_{i+1} + ... + X_p)} \\\\ \n",
    "& = & \\frac{\\sigma^2_\\epsilon}{N_{obs}  Var(X_i)  (1-R_i^2)} \\\\ \n",
    "\\end{eqnarray}\n"
   ]
  },
  {
   "cell_type": "markdown",
   "metadata": {},
   "source": [
    "## Serial correlations in residuals\n",
    "$Y = X\\beta +\\epsilon$"
   ]
  }
 ],
 "metadata": {
  "kernelspec": {
   "display_name": "Python 3",
   "language": "python",
   "name": "python3"
  },
  "language_info": {
   "codemirror_mode": {
    "name": "ipython",
    "version": 3
   },
   "file_extension": ".py",
   "mimetype": "text/x-python",
   "name": "python",
   "nbconvert_exporter": "python",
   "pygments_lexer": "ipython3",
   "version": "3.7.4"
  }
 },
 "nbformat": 4,
 "nbformat_minor": 2
}
